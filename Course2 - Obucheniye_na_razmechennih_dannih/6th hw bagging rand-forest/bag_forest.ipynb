{
 "cells": [
  {
   "cell_type": "code",
   "execution_count": 33,
   "metadata": {},
   "outputs": [],
   "source": [
    "import pandas as pd\n",
    "import numpy as np\n",
    "import matplotlib\n",
    "from matplotlib import pyplot as plt\n",
    "from sklearn import datasets,metrics,tree, model_selection,ensemble"
   ]
  },
  {
   "cell_type": "code",
   "execution_count": 28,
   "metadata": {},
   "outputs": [
    {
     "name": "stdout",
     "output_type": "stream",
     "text": [
      "(1797, 64)\n"
     ]
    }
   ],
   "source": [
    "data_digits = datasets.load_digits()\n",
    "X = data_digits['data']\n",
    "y = data_digits['target']\n",
    "print(x.shape)"
   ]
  },
  {
   "cell_type": "code",
   "execution_count": 31,
   "metadata": {},
   "outputs": [
    {
     "name": "stdout",
     "output_type": "stream",
     "text": [
      "0.8263687150837988\n"
     ]
    }
   ],
   "source": [
    "bereza = tree.DecisionTreeClassifier()\n",
    "ans1 = model_selection.cross_val_score(bereza,X,y,cv=10).mean()\n",
    "print(ans1)\n",
    "with open('ans1.txt','w') as ans:\n",
    "    ans.write(str(ans1))"
   ]
  },
  {
   "cell_type": "code",
   "execution_count": 35,
   "metadata": {},
   "outputs": [
    {
     "name": "stdout",
     "output_type": "stream",
     "text": [
      "0.9237306021104905\n"
     ]
    }
   ],
   "source": [
    "bag_bereza = ensemble.BaggingClassifier(bereza,n_estimators = 100)\n",
    "ans2 = model_selection.cross_val_score(bag_bereza,X,y,cv=10).mean()\n",
    "print(ans2)\n",
    "with open('ans2.txt','w') as ans:\n",
    "    ans.write(str(ans2))"
   ]
  },
  {
   "cell_type": "code",
   "execution_count": 40,
   "metadata": {},
   "outputs": [
    {
     "name": "stdout",
     "output_type": "stream",
     "text": [
      "0.9226505276225947\n"
     ]
    }
   ],
   "source": [
    "#print(len(X[0])**(1/2))\n",
    "bag_bereza_sq = ensemble.BaggingClassifier(bereza,n_estimators = 100,n_jobs = 10, max_features = int(len(X[0])**(1/2)))\n",
    "ans3 = model_selection.cross_val_score(bag_bereza_sq,X,y,cv=10).mean()\n",
    "print(ans3)\n",
    "with open('ans3.txt','w') as ans:\n",
    "    ans.write(str(ans3))"
   ]
  },
  {
   "cell_type": "code",
   "execution_count": 42,
   "metadata": {},
   "outputs": [
    {
     "name": "stdout",
     "output_type": "stream",
     "text": [
      "0.9521384233395406\n"
     ]
    }
   ],
   "source": [
    "bereza = tree.DecisionTreeClassifier(max_features = int(len(X[0])**(1/2)))\n",
    "bag_bereza_sq = ensemble.BaggingClassifier(bereza,n_estimators = 100,n_jobs = 10)\n",
    "ans4 = model_selection.cross_val_score(bag_bereza_sq,X,y,cv=10).mean()\n",
    "print(ans4)\n",
    "with open('ans4.txt','w') as ans:\n",
    "    ans.write(str(ans4))"
   ]
  },
  {
   "cell_type": "code",
   "execution_count": 49,
   "metadata": {},
   "outputs": [
    {
     "name": "stdout",
     "output_type": "stream",
     "text": [
      "0.9499099937926753\n"
     ]
    }
   ],
   "source": [
    "rand_forest = ensemble.RandomForestClassifier(n_jobs = 10)\n",
    "ans5 = model_selection.cross_val_score(rand_forest,X,y,cv=10).mean()\n",
    "print(ans5)\n",
    "with open('ans5.txt','w') as ans:\n",
    "    ans.write(str(ans5))"
   ]
  },
  {
   "cell_type": "code",
   "execution_count": 50,
   "metadata": {},
   "outputs": [],
   "source": [
    "with open('ans6.txt','w') as ans:\n",
    "    ans.write('2 3 4 7')"
   ]
  },
  {
   "cell_type": "code",
   "execution_count": null,
   "metadata": {},
   "outputs": [],
   "source": []
  }
 ],
 "metadata": {
  "kernelspec": {
   "display_name": "Python 3",
   "language": "python",
   "name": "python3"
  },
  "language_info": {
   "codemirror_mode": {
    "name": "ipython",
    "version": 3
   },
   "file_extension": ".py",
   "mimetype": "text/x-python",
   "name": "python",
   "nbconvert_exporter": "python",
   "pygments_lexer": "ipython3",
   "version": "3.8.5"
  }
 },
 "nbformat": 4,
 "nbformat_minor": 4
}
