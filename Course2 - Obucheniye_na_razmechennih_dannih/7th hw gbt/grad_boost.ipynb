{
 "cells": [
  {
   "cell_type": "code",
   "execution_count": 26,
   "metadata": {},
   "outputs": [],
   "source": [
    "import pandas as pd\n",
    "import numpy as np\n",
    "import matplotlib\n",
    "from matplotlib import pyplot as plt\n",
    "from sklearn import datasets,metrics,tree, model_selection,ensemble,linear_model\n"
   ]
  },
  {
   "cell_type": "code",
   "execution_count": 23,
   "metadata": {},
   "outputs": [],
   "source": [
    "data_boston = datasets.load_boston()\n",
    "X = data_boston['data']\n",
    "y = data_boston['target']\n",
    "(X_train,X_test,y_train,y_test) = model_selection.train_test_split(X,y,test_size = 0.25,shuffle = False)"
   ]
  },
  {
   "cell_type": "code",
   "execution_count": 24,
   "metadata": {},
   "outputs": [],
   "source": [
    "base_algorithms_list = []\n",
    "coefficients_list = [0.9 for x in range(50)]\n",
    "def gbm_predict(X):\n",
    "    return [sum([coeff * algo.predict([x])[0] for algo, coeff in zip(base_algorithms_list, coefficients_list)]) for x in X]\n",
    "#тренируем первое дерево для записи в список\n",
    "bereza = tree.DecisionTreeRegressor(max_depth=5, random_state=42)\n",
    "bereza.fit(X_train,y_train)\n",
    "base_algorithms_list.append(bereza)\n",
    "#тренируем все остальные деревья\n",
    "for i in range(len(coefficients_list)-1):\n",
    "    bereza = tree.DecisionTreeRegressor(max_depth=5, random_state=42)\n",
    "    y_new = -(np.array(gbm_predict(X_train)) - y_train)\n",
    "    bereza.fit(X_train,y_new)\n",
    "    base_algorithms_list.append(bereza)\n",
    "#посчитаем ошибку\n",
    "ans2 = metrics.mean_squared_error(y_test, gbm_predict(X_test))**(1/2)\n",
    "with open(\"ans2.txt\",'w') as ans:\n",
    "    ans.write(str(ans2))"
   ]
  },
  {
   "cell_type": "code",
   "execution_count": 25,
   "metadata": {},
   "outputs": [],
   "source": [
    "base_algorithms_list = []\n",
    "coefficients_list = [0.9/(1.0 + x) for x in range(50)]\n",
    "def gbm_predict(X):\n",
    "    return [sum([coeff * algo.predict([x])[0] for algo, coeff in zip(base_algorithms_list, coefficients_list)]) for x in X]\n",
    "#тренируем первое дерево для записи в список\n",
    "bereza = tree.DecisionTreeRegressor(max_depth=5, random_state=42)\n",
    "bereza.fit(X_train,y_train)\n",
    "base_algorithms_list.append(bereza)\n",
    "#тренируем все остальные деревья\n",
    "for i in range(len(coefficients_list)-1):\n",
    "    bereza = tree.DecisionTreeRegressor(max_depth=5, random_state=42)\n",
    "    y_new = -(np.array(gbm_predict(X_train)) - y_train)\n",
    "    bereza.fit(X_train,y_new)\n",
    "    base_algorithms_list.append(bereza)\n",
    "#посчитаем ошибку\n",
    "ans3 = metrics.mean_squared_error(y_test, gbm_predict(X_test))**(1/2)\n",
    "with open(\"ans3.txt\",'w') as ans:\n",
    "    ans.write(str(ans3))"
   ]
  },
  {
   "cell_type": "code",
   "execution_count": 27,
   "metadata": {},
   "outputs": [],
   "source": [
    "lin_alg = linear_model.LinearRegression()\n",
    "lin_alg.fit(X_train,y_train)\n",
    "ans5 = metrics.mean_squared_error(y_test, lin_alg.predict(X_test))**(1/2)\n",
    "with open(\"ans5.txt\",'w') as ans:\n",
    "    ans.write(str(ans5))"
   ]
  },
  {
   "cell_type": "code",
   "execution_count": null,
   "metadata": {},
   "outputs": [],
   "source": []
  }
 ],
 "metadata": {
  "kernelspec": {
   "display_name": "Python 3",
   "language": "python",
   "name": "python3"
  },
  "language_info": {
   "codemirror_mode": {
    "name": "ipython",
    "version": 3
   },
   "file_extension": ".py",
   "mimetype": "text/x-python",
   "name": "python",
   "nbconvert_exporter": "python",
   "pygments_lexer": "ipython3",
   "version": "3.8.5"
  }
 },
 "nbformat": 4,
 "nbformat_minor": 4
}
